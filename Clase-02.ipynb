{
 "cells": [
  {
   "cell_type": "markdown",
   "metadata": {},
   "source": [
    "## Condicionales"
   ]
  },
  {
   "cell_type": "code",
   "execution_count": 4,
   "metadata": {},
   "outputs": [
    {
     "name": "stdout",
     "output_type": "stream",
     "text": [
      "El numero es mayor 96\n"
     ]
    }
   ],
   "source": [
    "No1 = int(input(\"Ingresa un numero\"))\n",
    "No2 = int(input(\"Ingresa otro numero\"))\n",
    "\n",
    "if No1 > No2:\n",
    "    print(f\"El numero mayor es {No1}\")\n",
    "elif No2 == No1:\n",
    "    print(f\"El numero es mayor {No2}\")\n",
    "else:\n",
    "    print(\"Los numeros son iguales\")\n",
    "\n"
   ]
  },
  {
   "cell_type": "markdown",
   "metadata": {},
   "source": [
    "# Listas \n"
   ]
  },
  {
   "cell_type": "code",
   "execution_count": 9,
   "metadata": {},
   "outputs": [
    {
     "name": "stdout",
     "output_type": "stream",
     "text": [
      "['Manzana', 'Platano', 'Peras']\n",
      "Manzana\n",
      "['Manzana', 'Platano', 'Peras', 'Naranja']\n"
     ]
    },
    {
     "data": {
      "text/plain": [
       "['Manzana', 'Platano']"
      ]
     },
     "execution_count": 9,
     "metadata": {},
     "output_type": "execute_result"
    }
   ],
   "source": [
    "mis_frutas = [\"Manzana\", \"Platano\", \"Peras\"]\n",
    "print(mis_frutas)\n",
    "print(mis_frutas[0])\n",
    "mis_frutas.append(\"Naranja\")\n",
    "print(mis_frutas)\n",
    "mis_frutas[0:2]\n",
    "print(mis_frutas)\n",
    "mis_frutas[-2]\n",
    "print(mis_frutas)"
   ]
  },
  {
   "cell_type": "code",
   "execution_count": null,
   "metadata": {},
   "outputs": [],
   "source": [
    "palabra = \"El castillo Vagabundo\"\n",
    "\n",
    "palabra[0:2]\n",
    "palabra [3:11]\n",
    "palabra [12:21]"
   ]
  },
  {
   "cell_type": "code",
   "execution_count": 13,
   "metadata": {},
   "outputs": [
    {
     "name": "stdout",
     "output_type": "stream",
     "text": [
      "[3, 5, 5, 6, 10, 13, 15, 17, 20, 20]\n",
      "[20, 20, 17, 15, 13, 10, 6, 5, 5, 3]\n",
      "[20, 20, 17, 15, 13, 10, 6, 5, 5, 3]\n"
     ]
    }
   ],
   "source": [
    "mis_numeros = [20, 15, 6, 3, 10, 20, 5, 13, 17, 5]\n",
    "mis_numeros.sort()\n",
    "print(mis_numeros)\n",
    "mis_numeros.sort(reverse=True)\n",
    "print(mis_numeros)\n",
    "mis_numeros.count(5)\n",
    "print(mis_numeros)"
   ]
  },
  {
   "cell_type": "code",
   "execution_count": 14,
   "metadata": {},
   "outputs": [
    {
     "data": {
      "text/plain": [
       "114"
      ]
     },
     "execution_count": 14,
     "metadata": {},
     "output_type": "execute_result"
    }
   ],
   "source": [
    "sum(mis_numeros)"
   ]
  },
  {
   "cell_type": "markdown",
   "metadata": {},
   "source": [
    "$$\\frac{1}{2}\\sum{i}^{n} x_i$$\n"
   ]
  },
  {
   "cell_type": "code",
   "execution_count": 19,
   "metadata": {},
   "outputs": [
    {
     "name": "stdout",
     "output_type": "stream",
     "text": [
      "11.4\n",
      "11.4\n"
     ]
    }
   ],
   "source": [
    "print((sum(mis_numeros))/10)\n",
    "promedio = (sum(mis_numeros))/len(mis_numeros)\n",
    "print(promedio)"
   ]
  },
  {
   "cell_type": "code",
   "execution_count": 16,
   "metadata": {},
   "outputs": [
    {
     "data": {
      "text/plain": [
       "10"
      ]
     },
     "execution_count": 16,
     "metadata": {},
     "output_type": "execute_result"
    }
   ],
   "source": [
    "len(mis_numeros)\n"
   ]
  },
  {
   "cell_type": "code",
   "execution_count": 20,
   "metadata": {},
   "outputs": [
    {
     "name": "stdout",
     "output_type": "stream",
     "text": [
      "3\n",
      "20\n"
     ]
    }
   ],
   "source": [
    "print(min(mis_numeros))\n",
    "print(max(mis_numeros))"
   ]
  },
  {
   "cell_type": "code",
   "execution_count": null,
   "metadata": {},
   "outputs": [],
   "source": []
  }
 ],
 "metadata": {
  "kernelspec": {
   "display_name": "Python 3.10.6 64-bit",
   "language": "python",
   "name": "python3"
  },
  "language_info": {
   "codemirror_mode": {
    "name": "ipython",
    "version": 3
   },
   "file_extension": ".py",
   "mimetype": "text/x-python",
   "name": "python",
   "nbconvert_exporter": "python",
   "pygments_lexer": "ipython3",
   "version": "3.10.6"
  },
  "orig_nbformat": 4,
  "vscode": {
   "interpreter": {
    "hash": "26de051ba29f2982a8de78e945f0abaf191376122a1563185a90213a26c5da77"
   }
  }
 },
 "nbformat": 4,
 "nbformat_minor": 2
}
